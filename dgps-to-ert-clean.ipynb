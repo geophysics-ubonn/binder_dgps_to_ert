{
 "cells": [
  {
   "cell_type": "code",
   "execution_count": 1,
   "id": "6fd9e328-3ad6-4f72-981e-e1619be236ec",
   "metadata": {},
   "outputs": [],
   "source": [
    "import dgps_manager"
   ]
  },
  {
   "cell_type": "code",
   "execution_count": 2,
   "id": "cc5aef37-dc2b-419a-bf36-321583493d58",
   "metadata": {},
   "outputs": [
    {
     "name": "stdout",
     "output_type": "stream",
     "text": [
      "loading .zip file\n"
     ]
    },
    {
     "data": {
      "application/vnd.jupyter.widget-view+json": {
       "model_id": "b07b18813e844109b4277d7a064c3d92",
       "version_major": 2,
       "version_minor": 0
      },
      "text/plain": [
       "VBox(children=(FileUpload(value=(), accept='.zip', description='Upload'), RadioButtons(description='.geojson f…"
      ]
     },
     "metadata": {},
     "output_type": "display_data"
    }
   ],
   "source": [
    "gjsel = dgps_manager.geojson_from_zip_selector('fake-ert GeoJSON.zip')\n",
    "gjsel.show()"
   ]
  },
  {
   "cell_type": "code",
   "execution_count": 4,
   "id": "8fedbfc0-baca-47d3-97d7-04f19d01ce4f",
   "metadata": {},
   "outputs": [],
   "source": [
    "import numpy as np\n",
    "electrode_positions = np.vstack((\n",
    "    np.cumsum(gjsel.ert.xy_distances_rel),\n",
    "    np.zeros(gjsel.ert.utm_coords.shape[0]),\n",
    "    gjsel.ert.utm_coords[:, 2],\n",
    ")).T"
   ]
  },
  {
   "cell_type": "code",
   "execution_count": 5,
   "id": "6d2a6826-c950-4657-a759-619827b40763",
   "metadata": {},
   "outputs": [
    {
     "data": {
      "application/vnd.jupyter.widget-view+json": {
       "model_id": "57bda931aab443c2bf336eff66de40a1",
       "version_major": 2,
       "version_minor": 0
      },
      "text/plain": [
       "VBox(children=(HBox(children=(Label(value='Electrode 0: (0.0/0.0/0.6966910000000013)'), Button(description='Mo…"
      ]
     },
     "metadata": {},
     "output_type": "display_data"
    }
   ],
   "source": [
    "manager = dgps_manager.electrode_manager(electrode_positions)\n",
    "manager.show()"
   ]
  },
  {
   "cell_type": "code",
   "execution_count": null,
   "id": "eee3a368-1715-4a45-89e7-7af11df53048",
   "metadata": {},
   "outputs": [],
   "source": [
    "msh_mgr = dgps_manager.crtomo_mesh(manager.get_electrode_positions())\n",
    "msh_mgr.show()"
   ]
  }
 ],
 "metadata": {
  "kernelspec": {
   "display_name": "Python 3 (ipykernel)",
   "language": "python",
   "name": "python3"
  },
  "language_info": {
   "codemirror_mode": {
    "name": "ipython",
    "version": 3
   },
   "file_extension": ".py",
   "mimetype": "text/x-python",
   "name": "python",
   "nbconvert_exporter": "python",
   "pygments_lexer": "ipython3",
   "version": "3.11.2"
  }
 },
 "nbformat": 4,
 "nbformat_minor": 5
}
